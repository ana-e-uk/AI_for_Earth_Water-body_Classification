{
 "cells": [
  {
   "cell_type": "code",
   "execution_count": 1,
   "id": "43ad036e-2c5f-40cd-88ba-5c58eddf544e",
   "metadata": {},
   "outputs": [],
   "source": [
    "import os\n",
    "import numpy as np"
   ]
  },
  {
   "cell_type": "code",
   "execution_count": 2,
   "id": "078e67d5-3368-4a86-a13e-33ea1bd374eb",
   "metadata": {},
   "outputs": [
    {
     "name": "stdout",
     "output_type": "stream",
     "text": [
      "350_400_stage2_padded\t\t      data_explore.py\n",
      "350_400_stage2_padded_time_series     data_read.ipynb\n",
      "350_400_stage2_warped_64x64\t      get-pip.py\n",
      "350_400_stage2_warped_64x64_frac_map  init_venv_ay.sh\n",
      "ai_venv\t\t\t\t      init_venv_u.sh\n",
      "ai_venv_ay\t\t\t      requirements.txt\n",
      "ai_venv_u\t\t\t      shape_files\n",
      "all_IDs_labels_realsat.npy\t      test\n",
      "continent_info.npy\n"
     ]
    }
   ],
   "source": [
    "!ls"
   ]
  },
  {
   "cell_type": "code",
   "execution_count": 3,
   "id": "d87ae4f7-a30a-46ba-9f0e-753eff5697bf",
   "metadata": {},
   "outputs": [
    {
     "name": "stdout",
     "output_type": "stream",
     "text": [
      "Padded Array Shape: (442, 1, 106, 106)\n",
      "Warped Array Shape: (442, 1, 64, 64)\n",
      "Frac Map Array Shape: (1, 64, 64)\n",
      "Time series Array Shape: (442, 1)\n",
      "Sample from Continent:  5\n",
      "Sample has label:  0\n"
     ]
    }
   ],
   "source": [
    "ID_no = 657668 # enter a valid ID number\n",
    "\n",
    "padded_data_dir = './350_400_stage2_padded/'\n",
    "warped_data_dir = './350_400_stage2_warped_64x64/'\n",
    "frac_map_data_dir = './350_400_stage2_warped_64x64_frac_map/'\n",
    "timeseries_data_dir = './350_400_stage2_padded_time_series/'\n",
    "\n",
    "padded_name = 'ID_'+str(ID_no)+'_orbit_updated_padded.npy'\n",
    "warped_name = 'ID_'+str(ID_no)+'_orbit_updated_warped.npy'\n",
    "frac_map_name = 'ID_'+str(ID_no)+'_frac_map.npy'\n",
    "time_series_name = 'ID_'+str(ID_no)+'_time_series.npy'\n",
    "\n",
    "continent_info = np.load('continent_info.npy')\n",
    "label_info = np.load('all_IDs_labels_realsat.npy')\n",
    "\n",
    "padded_array = np.load(os.path.join(padded_data_dir,padded_name))\n",
    "warped_array = np.load(os.path.join(warped_data_dir,warped_name))\n",
    "frac_map_array = np.load(os.path.join(frac_map_data_dir,frac_map_name))\n",
    "time_series_array = np.load(os.path.join(timeseries_data_dir,time_series_name))\n",
    "\n",
    "print('Padded Array Shape:',padded_array.shape)\n",
    "print('Warped Array Shape:',warped_array.shape)\n",
    "print('Frac Map Array Shape:',frac_map_array.shape)\n",
    "print('Time series Array Shape:',time_series_array.shape)\n",
    "\n",
    "print('Sample from Continent: ',continent_info[ID_no])\n",
    "print('Sample has label: ',label_info[ID_no])\n"
   ]
  },
  {
   "cell_type": "code",
   "execution_count": 7,
   "id": "56f4f3f2",
   "metadata": {},
   "outputs": [
    {
     "name": "stdout",
     "output_type": "stream",
     "text": [
      "0\n"
     ]
    }
   ],
   "source": [
    "print(label_info[-1])"
   ]
  },
  {
   "cell_type": "code",
   "execution_count": 6,
   "id": "15575340-5ab5-4c78-8f16-1c086f74c62c",
   "metadata": {},
   "outputs": [
    {
     "name": "stdout",
     "output_type": "stream",
     "text": [
      "Label Count\n",
      "[979799    427  18707    317    143    288     52    255     12]\n",
      "Continent Count\n",
      "[331063 243405 212292  39367  34275 110047   1895  27044    612]\n"
     ]
    }
   ],
   "source": [
    "print('Label Count')\n",
    "print(np.bincount(label_info))\n",
    "\n",
    "print('Continent Count')\n",
    "print(np.bincount(continent_info))"
   ]
  },
  {
   "cell_type": "markdown",
   "id": "ec72768b-ea32-46ff-9411-c80cd98e6325",
   "metadata": {},
   "source": [
    "LABEL and Continent Info \n",
    "\n",
    "Label Array\n",
    "array[no] = C → ID no is class C\n",
    "\n",
    "0 - Unknown\n",
    "1 - Farm\n",
    "2 - Reservoir\n",
    "3 - River\n",
    "4 - Stable Lakes\n",
    "5 - Seasonal Lakes\n",
    "6 - Highly seasonal Lakes\n",
    "7 - Ephemeral lakes \n",
    "8 - river runoff/oxbow\n",
    "\n",
    "Continent info\n",
    "array[no] = C → ID no is in Continent C\n",
    "\n",
    "1 - Asia\n",
    "2 - North America\n",
    "3 - Europe\n",
    "4 - Africa\n",
    "5 - South America\n",
    "6 - Oceania\n",
    "7 - Australia\n",
    "8 - Antarctica\n"
   ]
  },
  {
   "cell_type": "markdown",
   "id": "a4413fe0",
   "metadata": {},
   "source": [
    "---\n",
    "## Data Exploration"
   ]
  },
  {
   "cell_type": "markdown",
   "id": "eb3df4a7",
   "metadata": {},
   "source": [
    "1. Get label count for each continent\n",
    "2. Choose continent that has most similar distribution/counts to North America\n"
   ]
  },
  {
   "cell_type": "markdown",
   "id": "a415aa4b",
   "metadata": {},
   "source": [
    "TODO:\n",
    "1. data exploration to choose data\n",
    "2. make presentation\n",
    "    - quick motivation\n",
    "    - question\n",
    "    - describe data - original and chosen\n",
    "    - describe model\n",
    "    - \n"
   ]
  }
 ],
 "metadata": {
  "kernelspec": {
   "display_name": "ai_venv_ay",
   "language": "python",
   "name": "python3"
  },
  "language_info": {
   "codemirror_mode": {
    "name": "ipython",
    "version": 3
   },
   "file_extension": ".py",
   "mimetype": "text/x-python",
   "name": "python",
   "nbconvert_exporter": "python",
   "pygments_lexer": "ipython3",
   "version": "3.11.9"
  }
 },
 "nbformat": 4,
 "nbformat_minor": 5
}
